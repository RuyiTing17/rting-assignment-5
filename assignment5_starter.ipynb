{
 "cells": [
  {
   "cell_type": "code",
   "execution_count": 219,
   "metadata": {},
   "outputs": [],
   "source": [
    "import numpy as np\n",
    "import pandas as pd"
   ]
  },
  {
   "cell_type": "code",
   "execution_count": 225,
   "metadata": {},
   "outputs": [],
   "source": [
    "class CustomKNN:\n",
    "    def __init__(self, k=3, distance_metric='euclidean'):\n",
    "        self.k = k\n",
    "        self.distance_metric = distance_metric\n",
    "\n",
    "    def fit(self, X, y):\n",
    "        self.X_train = X\n",
    "        self.y_train = y\n",
    "\n",
    "    def predict_proba(self, X):\n",
    "        probabilities = []\n",
    "        for x in X.values:\n",
    "            distances = self.compute_distance(x, self.X_train.values)\n",
    "            k_indices = np.argpartition(distances, self.k)[:self.k]\n",
    "            k_nearest_labels = self.y_train.iloc[k_indices]\n",
    "            prob = np.mean(k_nearest_labels)\n",
    "            probabilities.append(prob)\n",
    "        return np.array(probabilities)\n",
    "\n",
    "    def compute_distance(self, X1, X2):\n",
    "        if self.distance_metric == 'euclidean':\n",
    "            return np.sqrt(np.sum((X2 - X1)**2, axis=1))\n",
    "        elif self.distance_metric == 'manhattan':\n",
    "            return np.sum(np.abs(X2 - X1), axis=1)\n",
    "        else:\n",
    "            raise ValueError(f\"Unsupported distance metric: {self.distance_metric}\")"
   ]
  },
  {
   "cell_type": "code",
   "execution_count": 226,
   "metadata": {},
   "outputs": [],
   "source": [
    "\n",
    "def preprocess_data(train_path, test_path):\n",
    "    train_data = pd.read_csv(train_path)\n",
    "    test_data = pd.read_csv(test_path)\n",
    "    \n",
    "    combined_data = pd.concat([train_data, test_data], axis=0, ignore_index=True)\n",
    "    \n",
    "    categorical_columns = ['Geography', 'Gender']\n",
    "    numerical_columns = ['CreditScore', 'Age', 'Tenure', 'Balance', 'NumOfProducts', 'HasCrCard', 'IsActiveMember', 'EstimatedSalary']\n",
    "    \n",
    "    # Handle missing values\n",
    "    for col in numerical_columns:\n",
    "        combined_data[col].fillna(combined_data[col].median(), inplace=True)\n",
    "    for col in categorical_columns:\n",
    "        combined_data[col].fillna('missing', inplace=True)\n",
    "    \n",
    "    combined_data = pd.get_dummies(combined_data, columns=categorical_columns, drop_first=True)\n",
    "    \n",
    "    feature_columns = numerical_columns + [col for col in combined_data.columns if col.startswith(tuple(categorical_columns))]\n",
    "    \n",
    "    # Standard scaling\n",
    "    combined_data[feature_columns] = (combined_data[feature_columns] - combined_data[feature_columns].mean()) / combined_data[feature_columns].std()\n",
    "    \n",
    "    train_size = len(train_data)\n",
    "    X = combined_data.loc[:train_size-1, feature_columns]\n",
    "    y = train_data['Exited']\n",
    "    X_test = combined_data.loc[train_size:, feature_columns]\n",
    "\n",
    "    return X, y, X_test\n"
   ]
  },
  {
   "cell_type": "code",
   "execution_count": 227,
   "metadata": {},
   "outputs": [],
   "source": [
    "def train_test_split(X, y, test_size=0.2, random_state=None):\n",
    "    if random_state is not None:\n",
    "        np.random.seed(random_state)\n",
    "    \n",
    "    indices = np.random.permutation(len(X))\n",
    "    test_size = int(len(X) * test_size)\n",
    "    test_indices = indices[:test_size]\n",
    "    train_indices = indices[test_size:]\n",
    "    \n",
    "    return X.iloc[train_indices], X.iloc[test_indices], y.iloc[train_indices], y.iloc[test_indices]\n",
    "\n",
    "def roc_auc_score(y_true, y_pred):\n",
    "    positive_indices = np.where(y_true == 1)[0]\n",
    "    negative_indices = np.where(y_true == 0)[0]\n",
    "    \n",
    "    positive_predictions = y_pred[positive_indices]\n",
    "    negative_predictions = y_pred[negative_indices]\n",
    "        \n",
    "    correct_order = np.sum(positive_predictions[:, None] > negative_predictions) \n",
    "    return correct_order / (len(positive_indices) * len(negative_indices))\n",
    "\n",
    "def cross_validate(X, y, model, n_splits=5):\n",
    "    scores = []\n",
    "    \n",
    "    for _ in range(n_splits):\n",
    "        X_train, X_val, y_train, y_val = train_test_split(X, y, test_size=0.2, random_state=np.random.randint(0, 1000))\n",
    "        \n",
    "        model.fit(X_train, y_train)\n",
    "        y_pred_proba = model.predict_proba(X_val)\n",
    "        \n",
    "        score = roc_auc_score(y_val, y_pred_proba)\n",
    "        scores.append(score)\n",
    "    \n",
    "    return scores"
   ]
  },
  {
   "cell_type": "code",
   "execution_count": 228,
   "metadata": {},
   "outputs": [
    {
     "name": "stdout",
     "output_type": "stream",
     "text": [
      "Cross-validation scores: [np.float64(0.7827393099966703), np.float64(0.819753998373543), np.float64(0.8114446802742773), np.float64(0.7861315496098105), np.float64(0.8229182427660009)]\n",
      "Mean ROC AUC score: 0.8045975562040603\n",
      "Best parameters: {'k': 11, 'distance_metric': 'manhattan'}\n",
      "Best ROC AUC score: 0.8611916316802983\n"
     ]
    }
   ],
   "source": [
    "X, y, X_test = preprocess_data('train.csv', 'test.csv')\n",
    "    \n",
    "# Initial model evaluation\n",
    "initial_model = CustomKNN(k=5, distance_metric='euclidean')\n",
    "cv_scores = cross_validate(X, y, initial_model)\n",
    "print(\"Initial cross-validation scores:\", cv_scores)\n",
    "print(\"Mean ROC AUC score:\", np.mean(cv_scores))\n",
    "\n",
    "    # Hyperparameter tuning\n",
    "k_values = [3, 5, 7, 9, 12]\n",
    "distance_metrics = ['euclidean', 'manhattan', 'minkowski']\n",
    "best_score = 0\n",
    "best_params = {}\n",
    "\n",
    "for k in k_values:\n",
    "    for metric in distance_metrics:\n",
    "        model = CustomKNN(k=k, distance_metric=metric)\n",
    "        scores = cross_validate(X, y, model)\n",
    "        mean_score = np.mean(scores)\n",
    "            \n",
    "        if mean_score > best_score:\n",
    "            best_score = mean_score\n",
    "            best_params = {'k': k, 'distance_metric': metric}\n",
    "\n",
    "print(\"Best parameters:\", best_params)\n",
    "print(\"Best ROC AUC score:\", best_score)\n",
    "\n",
    "    # Train on full dataset with optimal hyperparameters and make predictions on test set\n",
    "final_model = CustomKNN(**best_params)\n",
    "final_model.fit(X, y)\n",
    "test_predictions = final_model.predict_proba(X_test)\n",
    "\n",
    "    # Round predictions to 2 decimal points\n",
    "rounded_predictions = np.round(test_predictions, 2)\n",
    "\n",
    "    # Save test predictions\n",
    "pd.DataFrame({'id': pd.read_csv('test.csv')['id'], 'Exited': rounded_predictions}).to_csv('submissions.csv', index=False)"
   ]
  }
 ],
 "metadata": {
  "kernelspec": {
   "display_name": "venv",
   "language": "python",
   "name": "python3"
  },
  "language_info": {
   "codemirror_mode": {
    "name": "ipython",
    "version": 3
   },
   "file_extension": ".py",
   "mimetype": "text/x-python",
   "name": "python",
   "nbconvert_exporter": "python",
   "pygments_lexer": "ipython3",
   "version": "3.9.6"
  },
  "vscode": {
   "interpreter": {
    "hash": "356ae7325bc27e48a835e112f6b75802dddef391dfe69fd02506c6c5cee1ed80"
   }
  }
 },
 "nbformat": 4,
 "nbformat_minor": 2
}
